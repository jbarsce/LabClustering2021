{
 "cells": [
  {
   "cell_type": "markdown",
   "id": "2e39be69-b6de-4a2f-aa7e-8e7309bedbd6",
   "metadata": {},
   "source": [
    "Este es un notebook temporal creado para testear y hacer debug. Ignorar."
   ]
  },
  {
   "cell_type": "code",
   "execution_count": 7,
   "id": "95c1ae1c-f22a-4fd4-9ed4-0ce45724ed63",
   "metadata": {},
   "outputs": [
    {
     "name": "stdout",
     "output_type": "stream",
     "text": [
      "{'foo': 2, 'bar': 0, 'baz': 1}\n"
     ]
    },
    {
     "data": {
      "text/plain": [
       "['bar', 'foo']"
      ]
     },
     "execution_count": 7,
     "metadata": {},
     "output_type": "execute_result"
    }
   ],
   "source": [
    "from sklearn.feature_extraction import DictVectorizer\n",
    "from sklearn.feature_selection import SelectKBest, chi2\n",
    "v = DictVectorizer()\n",
    "D = [{'foo': 1, 'bar': 2}, {'foo': 3, 'baz': 1}]\n",
    "X = v.fit_transform(D)\n",
    "support = SelectKBest(chi2, k=2).fit(X, [0, 1])\n",
    "print(v.vocabulary_)\n",
    "v.feature_names_\n",
    "\n",
    "v.restrict(support.get_support())\n",
    "\n",
    "v.feature_names_"
   ]
  },
  {
   "cell_type": "code",
   "execution_count": 4,
   "id": "157c9b42-3775-4fa5-a1dd-22f2751372f9",
   "metadata": {},
   "outputs": [
    {
     "data": {
      "text/plain": [
       "array([ True, False,  True])"
      ]
     },
     "execution_count": 4,
     "metadata": {},
     "output_type": "execute_result"
    }
   ],
   "source": [
    "support.get_support()"
   ]
  },
  {
   "cell_type": "code",
   "execution_count": 5,
   "id": "6c51a33a-79dc-4964-8b09-55a4dd07ec3d",
   "metadata": {},
   "outputs": [
    {
     "data": {
      "text/plain": [
       "{'bar': 0, 'foo': 1}"
      ]
     },
     "execution_count": 5,
     "metadata": {},
     "output_type": "execute_result"
    }
   ],
   "source": []
  },
  {
   "cell_type": "code",
   "execution_count": null,
   "id": "386dfe3a-54c9-4a3f-b1bf-37f3d4e1d843",
   "metadata": {},
   "outputs": [],
   "source": []
  }
 ],
 "metadata": {
  "kernelspec": {
   "display_name": "Python 3",
   "language": "python",
   "name": "python3"
  },
  "language_info": {
   "codemirror_mode": {
    "name": "ipython",
    "version": 3
   },
   "file_extension": ".py",
   "mimetype": "text/x-python",
   "name": "python",
   "nbconvert_exporter": "python",
   "pygments_lexer": "ipython3",
   "version": "3.8.8"
  }
 },
 "nbformat": 4,
 "nbformat_minor": 5
}
